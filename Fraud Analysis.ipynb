{
 "cells": [
  {
   "cell_type": "markdown",
   "id": "c920c0be-9ed8-4e30-98da-6d4fd56dd7a8",
   "metadata": {},
   "source": [
    "#### Fruad Analysis "
   ]
  },
  {
   "cell_type": "code",
   "execution_count": 3,
   "id": "16e39a3d-d21e-414b-9dbb-e489801eb495",
   "metadata": {},
   "outputs": [],
   "source": [
    "import pandas as pd\n",
    "import numpy as np\n",
    "import matplotlib.pyplot as plt\n",
    "import seaborn as sns\n",
    "import ipaddress\n",
    "import warnings\n",
    "warnings.filterwarnings('ignore')"
   ]
  },
  {
   "cell_type": "code",
   "execution_count": 5,
   "id": "1cd4b2c4-e37b-408e-8e55-d60eb8aa4dda",
   "metadata": {},
   "outputs": [],
   "source": [
    "fraud_df = pd.read_csv(\"C:/Users/27638/Downloads/Fraud_Data.csv\")\n",
    "ip_df = pd.read_csv(\"C:/Users/27638/Downloads/IpAddress_to_Country.csv\")"
   ]
  },
  {
   "cell_type": "code",
   "execution_count": 9,
   "id": "73e7a3db-6c84-4192-884c-306a51afd555",
   "metadata": {},
   "outputs": [
    {
     "data": {
      "text/html": [
       "<div>\n",
       "<style scoped>\n",
       "    .dataframe tbody tr th:only-of-type {\n",
       "        vertical-align: middle;\n",
       "    }\n",
       "\n",
       "    .dataframe tbody tr th {\n",
       "        vertical-align: top;\n",
       "    }\n",
       "\n",
       "    .dataframe thead th {\n",
       "        text-align: right;\n",
       "    }\n",
       "</style>\n",
       "<table border=\"1\" class=\"dataframe\">\n",
       "  <thead>\n",
       "    <tr style=\"text-align: right;\">\n",
       "      <th></th>\n",
       "      <th>user_id</th>\n",
       "      <th>signup_time</th>\n",
       "      <th>purchase_time</th>\n",
       "      <th>purchase_value</th>\n",
       "      <th>device_id</th>\n",
       "      <th>source</th>\n",
       "      <th>browser</th>\n",
       "      <th>sex</th>\n",
       "      <th>age</th>\n",
       "      <th>ip_address</th>\n",
       "      <th>class</th>\n",
       "    </tr>\n",
       "  </thead>\n",
       "  <tbody>\n",
       "    <tr>\n",
       "      <th>0</th>\n",
       "      <td>22058</td>\n",
       "      <td>2015-02-24 22:55:49</td>\n",
       "      <td>2015-04-18 02:47:11</td>\n",
       "      <td>34</td>\n",
       "      <td>QVPSPJUOCKZAR</td>\n",
       "      <td>SEO</td>\n",
       "      <td>Chrome</td>\n",
       "      <td>M</td>\n",
       "      <td>39</td>\n",
       "      <td>7.327584e+08</td>\n",
       "      <td>0</td>\n",
       "    </tr>\n",
       "    <tr>\n",
       "      <th>1</th>\n",
       "      <td>333320</td>\n",
       "      <td>2015-06-07 20:39:50</td>\n",
       "      <td>2015-06-08 01:38:54</td>\n",
       "      <td>16</td>\n",
       "      <td>EOGFQPIZPYXFZ</td>\n",
       "      <td>Ads</td>\n",
       "      <td>Chrome</td>\n",
       "      <td>F</td>\n",
       "      <td>53</td>\n",
       "      <td>3.503114e+08</td>\n",
       "      <td>0</td>\n",
       "    </tr>\n",
       "    <tr>\n",
       "      <th>2</th>\n",
       "      <td>1359</td>\n",
       "      <td>2015-01-01 18:52:44</td>\n",
       "      <td>2015-01-01 18:52:45</td>\n",
       "      <td>15</td>\n",
       "      <td>YSSKYOSJHPPLJ</td>\n",
       "      <td>SEO</td>\n",
       "      <td>Opera</td>\n",
       "      <td>M</td>\n",
       "      <td>53</td>\n",
       "      <td>2.621474e+09</td>\n",
       "      <td>1</td>\n",
       "    </tr>\n",
       "    <tr>\n",
       "      <th>3</th>\n",
       "      <td>150084</td>\n",
       "      <td>2015-04-28 21:13:25</td>\n",
       "      <td>2015-05-04 13:54:50</td>\n",
       "      <td>44</td>\n",
       "      <td>ATGTXKYKUDUQN</td>\n",
       "      <td>SEO</td>\n",
       "      <td>Safari</td>\n",
       "      <td>M</td>\n",
       "      <td>41</td>\n",
       "      <td>3.840542e+09</td>\n",
       "      <td>0</td>\n",
       "    </tr>\n",
       "    <tr>\n",
       "      <th>4</th>\n",
       "      <td>221365</td>\n",
       "      <td>2015-07-21 07:09:52</td>\n",
       "      <td>2015-09-09 18:40:53</td>\n",
       "      <td>39</td>\n",
       "      <td>NAUITBZFJKHWW</td>\n",
       "      <td>Ads</td>\n",
       "      <td>Safari</td>\n",
       "      <td>M</td>\n",
       "      <td>45</td>\n",
       "      <td>4.155831e+08</td>\n",
       "      <td>0</td>\n",
       "    </tr>\n",
       "  </tbody>\n",
       "</table>\n",
       "</div>"
      ],
      "text/plain": [
       "   user_id          signup_time        purchase_time  purchase_value  \\\n",
       "0    22058  2015-02-24 22:55:49  2015-04-18 02:47:11              34   \n",
       "1   333320  2015-06-07 20:39:50  2015-06-08 01:38:54              16   \n",
       "2     1359  2015-01-01 18:52:44  2015-01-01 18:52:45              15   \n",
       "3   150084  2015-04-28 21:13:25  2015-05-04 13:54:50              44   \n",
       "4   221365  2015-07-21 07:09:52  2015-09-09 18:40:53              39   \n",
       "\n",
       "       device_id source browser sex  age    ip_address  class  \n",
       "0  QVPSPJUOCKZAR    SEO  Chrome   M   39  7.327584e+08      0  \n",
       "1  EOGFQPIZPYXFZ    Ads  Chrome   F   53  3.503114e+08      0  \n",
       "2  YSSKYOSJHPPLJ    SEO   Opera   M   53  2.621474e+09      1  \n",
       "3  ATGTXKYKUDUQN    SEO  Safari   M   41  3.840542e+09      0  \n",
       "4  NAUITBZFJKHWW    Ads  Safari   M   45  4.155831e+08      0  "
      ]
     },
     "execution_count": 9,
     "metadata": {},
     "output_type": "execute_result"
    }
   ],
   "source": [
    "fraud_df.head()"
   ]
  },
  {
   "cell_type": "code",
   "execution_count": 53,
   "id": "68984135-90fe-4f5d-9931-3cd80ee96e44",
   "metadata": {},
   "outputs": [
    {
     "data": {
      "text/plain": [
       "Index(['signup_time', 'purchase_time', 'purchase_value', 'device_id', 'age',\n",
       "       'class', 'source_Direct', 'source_SEO', 'browser_FireFox', 'browser_IE',\n",
       "       ...\n",
       "       'country_Uganda', 'country_Ukraine', 'country_United Arab Emirates',\n",
       "       'country_United Kingdom', 'country_United States', 'country_Unknown',\n",
       "       'country_Uzbekistan', 'country_Viet Nam',\n",
       "       'country_Virgin Islands (U.S.)', 'country_Zambia'],\n",
       "      dtype='object', length=154)"
      ]
     },
     "execution_count": 53,
     "metadata": {},
     "output_type": "execute_result"
    }
   ],
   "source": [
    "fraud_df.columns"
   ]
  },
  {
   "cell_type": "code",
   "execution_count": 11,
   "id": "da4a3c89-c532-4591-80ce-8913faa51b67",
   "metadata": {},
   "outputs": [
    {
     "data": {
      "text/html": [
       "<div>\n",
       "<style scoped>\n",
       "    .dataframe tbody tr th:only-of-type {\n",
       "        vertical-align: middle;\n",
       "    }\n",
       "\n",
       "    .dataframe tbody tr th {\n",
       "        vertical-align: top;\n",
       "    }\n",
       "\n",
       "    .dataframe thead th {\n",
       "        text-align: right;\n",
       "    }\n",
       "</style>\n",
       "<table border=\"1\" class=\"dataframe\">\n",
       "  <thead>\n",
       "    <tr style=\"text-align: right;\">\n",
       "      <th></th>\n",
       "      <th>lower_bound_ip_address</th>\n",
       "      <th>upper_bound_ip_address</th>\n",
       "      <th>country</th>\n",
       "    </tr>\n",
       "  </thead>\n",
       "  <tbody>\n",
       "    <tr>\n",
       "      <th>0</th>\n",
       "      <td>16777216.0</td>\n",
       "      <td>16777471</td>\n",
       "      <td>Australia</td>\n",
       "    </tr>\n",
       "    <tr>\n",
       "      <th>1</th>\n",
       "      <td>16777472.0</td>\n",
       "      <td>16777727</td>\n",
       "      <td>China</td>\n",
       "    </tr>\n",
       "    <tr>\n",
       "      <th>2</th>\n",
       "      <td>16777728.0</td>\n",
       "      <td>16778239</td>\n",
       "      <td>China</td>\n",
       "    </tr>\n",
       "    <tr>\n",
       "      <th>3</th>\n",
       "      <td>16778240.0</td>\n",
       "      <td>16779263</td>\n",
       "      <td>Australia</td>\n",
       "    </tr>\n",
       "    <tr>\n",
       "      <th>4</th>\n",
       "      <td>16779264.0</td>\n",
       "      <td>16781311</td>\n",
       "      <td>China</td>\n",
       "    </tr>\n",
       "  </tbody>\n",
       "</table>\n",
       "</div>"
      ],
      "text/plain": [
       "   lower_bound_ip_address  upper_bound_ip_address    country\n",
       "0              16777216.0                16777471  Australia\n",
       "1              16777472.0                16777727      China\n",
       "2              16777728.0                16778239      China\n",
       "3              16778240.0                16779263  Australia\n",
       "4              16779264.0                16781311      China"
      ]
     },
     "execution_count": 11,
     "metadata": {},
     "output_type": "execute_result"
    }
   ],
   "source": [
    "ip_df.head()"
   ]
  },
  {
   "cell_type": "code",
   "execution_count": 7,
   "id": "e9acc585-bc4e-43fc-979e-1d62fc9b5823",
   "metadata": {},
   "outputs": [
    {
     "name": "stdout",
     "output_type": "stream",
     "text": [
      "(151112, 11)\n",
      "(138846, 3)\n"
     ]
    }
   ],
   "source": [
    "print(fraud_df.shape)\n",
    "print(ip_df.shape)"
   ]
  },
  {
   "cell_type": "code",
   "execution_count": 13,
   "id": "4aaa2145-f2be-42a7-8d92-7b26de890e5a",
   "metadata": {},
   "outputs": [
    {
     "name": "stdout",
     "output_type": "stream",
     "text": [
      "<class 'pandas.core.frame.DataFrame'>\n",
      "RangeIndex: 151112 entries, 0 to 151111\n",
      "Data columns (total 11 columns):\n",
      " #   Column          Non-Null Count   Dtype  \n",
      "---  ------          --------------   -----  \n",
      " 0   user_id         151112 non-null  int64  \n",
      " 1   signup_time     151112 non-null  object \n",
      " 2   purchase_time   151112 non-null  object \n",
      " 3   purchase_value  151112 non-null  int64  \n",
      " 4   device_id       151112 non-null  object \n",
      " 5   source          151112 non-null  object \n",
      " 6   browser         151112 non-null  object \n",
      " 7   sex             151112 non-null  object \n",
      " 8   age             151112 non-null  int64  \n",
      " 9   ip_address      151112 non-null  float64\n",
      " 10  class           151112 non-null  int64  \n",
      "dtypes: float64(1), int64(4), object(6)\n",
      "memory usage: 12.7+ MB\n",
      "<class 'pandas.core.frame.DataFrame'>\n",
      "RangeIndex: 138846 entries, 0 to 138845\n",
      "Data columns (total 3 columns):\n",
      " #   Column                  Non-Null Count   Dtype  \n",
      "---  ------                  --------------   -----  \n",
      " 0   lower_bound_ip_address  138846 non-null  float64\n",
      " 1   upper_bound_ip_address  138846 non-null  int64  \n",
      " 2   country                 138846 non-null  object \n",
      "dtypes: float64(1), int64(1), object(1)\n",
      "memory usage: 3.2+ MB\n"
     ]
    }
   ],
   "source": [
    "fraud_df.info()\n",
    "ip_df.info()"
   ]
  },
  {
   "cell_type": "code",
   "execution_count": 15,
   "id": "f9f837bd-06c6-4106-ae9e-80d37c1e8433",
   "metadata": {},
   "outputs": [],
   "source": [
    "fraud_df.drop_duplicates(inplace=True)\n",
    "ip_df.drop_duplicates(inplace=True)"
   ]
  },
  {
   "cell_type": "code",
   "execution_count": 17,
   "id": "338688f9-bc16-4ce5-9a5b-3c41cd54cac9",
   "metadata": {},
   "outputs": [],
   "source": [
    "fraud_df['signup_time'] = pd.to_datetime(fraud_df['signup_time'])\n",
    "fraud_df['purchase_time'] = pd.to_datetime(fraud_df['purchase_time'])"
   ]
  },
  {
   "cell_type": "code",
   "execution_count": 23,
   "id": "bb15f417-b49b-4bb0-b758-b1fd886339bc",
   "metadata": {},
   "outputs": [
    {
     "data": {
      "text/plain": [
       "dtype('float64')"
      ]
     },
     "execution_count": 23,
     "metadata": {},
     "output_type": "execute_result"
    }
   ],
   "source": [
    "fraud_df['ip_address'].head(10)\n",
    "fraud_df['ip_address'].unique()[:10]\n",
    "fraud_df['ip_address'].dtype\n"
   ]
  },
  {
   "cell_type": "code",
   "execution_count": 25,
   "id": "86e3dde9-8b68-484f-92cb-7f09cfab7472",
   "metadata": {},
   "outputs": [],
   "source": [
    "# If ip_address is float, convert it to int safely\n",
    "fraud_df['ip_int'] = fraud_df['ip_address'].astype(float).astype(int)\n"
   ]
  },
  {
   "cell_type": "code",
   "execution_count": 27,
   "id": "61edcfa9-5655-41b8-847a-becd8c7e52f5",
   "metadata": {},
   "outputs": [
    {
     "data": {
      "text/plain": [
       "0    7.327584e+08\n",
       "1    3.503114e+08\n",
       "2    2.621474e+09\n",
       "3    3.840542e+09\n",
       "4    4.155831e+08\n",
       "Name: ip_address, dtype: float64"
      ]
     },
     "execution_count": 27,
     "metadata": {},
     "output_type": "execute_result"
    }
   ],
   "source": [
    "fraud_df['ip_address'].head()\n"
   ]
  },
  {
   "cell_type": "code",
   "execution_count": 29,
   "id": "7dccbefb-074d-4594-bc50-0ab61f537193",
   "metadata": {},
   "outputs": [],
   "source": [
    "# Step 1: Convert float IPs to integers\n",
    "fraud_df['ip_int'] = fraud_df['ip_address'].astype(float).astype(int)\n",
    "ip_df['lower_bound_ip_address'] = ip_df['lower_bound_ip_address'].astype(float).astype(int)\n",
    "ip_df['upper_bound_ip_address'] = ip_df['upper_bound_ip_address'].astype(float).astype(int)\n"
   ]
  },
  {
   "cell_type": "code",
   "execution_count": 31,
   "id": "a38b3415-23ee-440a-9803-56deaeb16b6b",
   "metadata": {},
   "outputs": [],
   "source": [
    "## Map country using IP ranges\n",
    "def find_country(ip):\n",
    "    match = ip_df[(ip_df['lower_bound_ip_address'] <= ip) &\n",
    "                  (ip_df['upper_bound_ip_address'] >= ip)]\n",
    "    return match['country'].values[0] if not match.empty else 'Unknown'\n",
    "\n",
    "# Apply function\n",
    "fraud_df['country'] = fraud_df['ip_int'].apply(find_country)\n"
   ]
  },
  {
   "cell_type": "code",
   "execution_count": 33,
   "id": "217af21f-8639-4e90-8f27-b64d04839d55",
   "metadata": {},
   "outputs": [],
   "source": [
    "##Clean Unnecessary Columns\n",
    "fraud_df.drop(['ip_address', 'ip_int', 'user_id'], axis=1, inplace=True, errors='ignore')\n"
   ]
  },
  {
   "cell_type": "code",
   "execution_count": 35,
   "id": "6b4a25b2-d292-49a1-bf72-8cd8b6321647",
   "metadata": {},
   "outputs": [],
   "source": [
    "# One-hot encode categorical features\n",
    "fraud_df = pd.get_dummies(fraud_df, columns=['source', 'browser', 'sex', 'country'], drop_first=True)\n"
   ]
  },
  {
   "cell_type": "code",
   "execution_count": 37,
   "id": "060ebb98-7eab-45f3-8ce0-085a7f6faebe",
   "metadata": {},
   "outputs": [
    {
     "name": "stdout",
     "output_type": "stream",
     "text": [
      "signup_time                      0\n",
      "purchase_time                    0\n",
      "purchase_value                   0\n",
      "device_id                        0\n",
      "age                              0\n",
      "                                ..\n",
      "country_Unknown                  0\n",
      "country_Uzbekistan               0\n",
      "country_Viet Nam                 0\n",
      "country_Virgin Islands (U.S.)    0\n",
      "country_Zambia                   0\n",
      "Length: 154, dtype: int64\n"
     ]
    }
   ],
   "source": [
    "print(fraud_df.isnull().sum())"
   ]
  },
  {
   "cell_type": "code",
   "execution_count": 39,
   "id": "52f7f828-5316-4817-ba91-bbc9ca488023",
   "metadata": {},
   "outputs": [],
   "source": [
    "fraud_df = fraud_df.dropna() "
   ]
  },
  {
   "cell_type": "code",
   "execution_count": 43,
   "id": "458529bd-1410-4d29-a567-bcfc6e9ad701",
   "metadata": {},
   "outputs": [
    {
     "name": "stdout",
     "output_type": "stream",
     "text": [
      "['signup_time', 'purchase_time', 'purchase_value', 'device_id', 'age', 'class', 'source_Direct', 'source_SEO', 'browser_FireFox', 'browser_IE', 'browser_Opera', 'browser_Safari', 'sex_M', 'country_Albania', 'country_Algeria', 'country_Angola', 'country_Antigua and Barbuda', 'country_Argentina', 'country_Armenia', 'country_Australia', 'country_Austria', 'country_Azerbaijan', 'country_Bahamas', 'country_Bahrain', 'country_Bangladesh', 'country_Barbados', 'country_Belarus', 'country_Belgium', 'country_Benin', 'country_Bhutan', 'country_Bosnia and Herzegowina', 'country_Botswana', 'country_Brunei Darussalam', 'country_Bulgaria', 'country_Burkina Faso', 'country_Cambodia', 'country_Cameroon', 'country_Canada', 'country_Cape Verde', 'country_Cayman Islands', 'country_China', 'country_Congo The Democratic Republic of The', \"country_Cote D'ivoire\", 'country_Croatia (LOCAL Name: Hrvatska)', 'country_Cyprus', 'country_Czech Republic', 'country_Denmark', 'country_Dominican Republic', 'country_Egypt', 'country_Estonia', 'country_European Union', 'country_Faroe Islands', 'country_Fiji', 'country_Finland', 'country_France', 'country_Gabon', 'country_Georgia', 'country_Germany', 'country_Ghana', 'country_Greece', 'country_Guadeloupe', 'country_Guam', 'country_Hong Kong', 'country_Hungary', 'country_Iceland', 'country_India', 'country_Indonesia', 'country_Iran (ISLAMIC Republic Of)', 'country_Iraq', 'country_Ireland', 'country_Israel', 'country_Italy', 'country_Jamaica', 'country_Japan', 'country_Jordan', 'country_Kazakhstan', 'country_Kenya', 'country_Korea Republic of', 'country_Kuwait', 'country_Kyrgyzstan', \"country_Lao People's Democratic Republic\", 'country_Latvia', 'country_Lebanon', 'country_Libyan Arab Jamahiriya', 'country_Liechtenstein', 'country_Lithuania', 'country_Luxembourg', 'country_Macau', 'country_Macedonia', 'country_Malawi', 'country_Malaysia', 'country_Maldives', 'country_Malta', 'country_Mauritius', 'country_Moldova Republic of', 'country_Monaco', 'country_Mongolia', 'country_Montenegro', 'country_Morocco', 'country_Mozambique', 'country_Myanmar', 'country_Namibia', 'country_Nepal', 'country_Netherlands', 'country_New Caledonia', 'country_New Zealand', 'country_Niger', 'country_Nigeria', 'country_Norway', 'country_Oman', 'country_Pakistan', 'country_Palestinian Territory Occupied', 'country_Papua New Guinea', 'country_Philippines', 'country_Poland', 'country_Portugal', 'country_Puerto Rico', 'country_Qatar', 'country_Reunion', 'country_Romania', 'country_Russian Federation', 'country_Rwanda', 'country_Saint Martin', 'country_San Marino', 'country_Saudi Arabia', 'country_Senegal', 'country_Serbia', 'country_Seychelles', 'country_Singapore', 'country_Slovakia (SLOVAK Republic)', 'country_Slovenia', 'country_South Africa', 'country_Spain', 'country_Sri Lanka', 'country_Sudan', 'country_Sweden', 'country_Switzerland', 'country_Syrian Arab Republic', 'country_Taiwan; Republic of China (ROC)', 'country_Tanzania United Republic of', 'country_Thailand', 'country_Tunisia', 'country_Turkey', 'country_Turkmenistan', 'country_Uganda', 'country_Ukraine', 'country_United Arab Emirates', 'country_United Kingdom', 'country_United States', 'country_Unknown', 'country_Uzbekistan', 'country_Viet Nam', 'country_Virgin Islands (U.S.)', 'country_Zambia']\n"
     ]
    }
   ],
   "source": [
    "print(fraud_df.columns.tolist())\n"
   ]
  },
  {
   "cell_type": "code",
   "execution_count": 55,
   "id": "53fe7d77-9c00-400f-9d45-2734e1c9938f",
   "metadata": {},
   "outputs": [],
   "source": [
    "y = fraud_df.pop('class')\n",
    "X = fraud_df\n"
   ]
  },
  {
   "cell_type": "code",
   "execution_count": 77,
   "id": "8410b1d5-b76c-4fe2-bd07-fe6134984b2b",
   "metadata": {},
   "outputs": [],
   "source": [
    "fraud_df.columns = fraud_df.columns.str.strip().str.lower()\n"
   ]
  },
  {
   "cell_type": "code",
   "execution_count": 81,
   "id": "123b650e-60d0-45b3-b625-28a0fda3284e",
   "metadata": {},
   "outputs": [
    {
     "name": "stdout",
     "output_type": "stream",
     "text": [
      "'signup_time'\n",
      "'purchase_time'\n",
      "'purchase_value'\n",
      "'device_id'\n",
      "'age'\n",
      "'source_direct'\n",
      "'source_seo'\n",
      "'browser_firefox'\n",
      "'browser_ie'\n",
      "'browser_opera'\n",
      "'browser_safari'\n",
      "'sex_m'\n",
      "'country_albania'\n",
      "'country_algeria'\n",
      "'country_angola'\n",
      "'country_antigua and barbuda'\n",
      "'country_argentina'\n",
      "'country_armenia'\n",
      "'country_australia'\n",
      "'country_austria'\n",
      "'country_azerbaijan'\n",
      "'country_bahamas'\n",
      "'country_bahrain'\n",
      "'country_bangladesh'\n",
      "'country_barbados'\n",
      "'country_belarus'\n",
      "'country_belgium'\n",
      "'country_benin'\n",
      "'country_bhutan'\n",
      "'country_bosnia and herzegowina'\n",
      "'country_botswana'\n",
      "'country_brunei darussalam'\n",
      "'country_bulgaria'\n",
      "'country_burkina faso'\n",
      "'country_cambodia'\n",
      "'country_cameroon'\n",
      "'country_canada'\n",
      "'country_cape verde'\n",
      "'country_cayman islands'\n",
      "'country_china'\n",
      "'country_congo the democratic republic of the'\n",
      "'country_cote d'ivoire'\n",
      "'country_croatia (local name: hrvatska)'\n",
      "'country_cyprus'\n",
      "'country_czech republic'\n",
      "'country_denmark'\n",
      "'country_dominican republic'\n",
      "'country_egypt'\n",
      "'country_estonia'\n",
      "'country_european union'\n",
      "'country_faroe islands'\n",
      "'country_fiji'\n",
      "'country_finland'\n",
      "'country_france'\n",
      "'country_gabon'\n",
      "'country_georgia'\n",
      "'country_germany'\n",
      "'country_ghana'\n",
      "'country_greece'\n",
      "'country_guadeloupe'\n",
      "'country_guam'\n",
      "'country_hong kong'\n",
      "'country_hungary'\n",
      "'country_iceland'\n",
      "'country_india'\n",
      "'country_indonesia'\n",
      "'country_iran (islamic republic of)'\n",
      "'country_iraq'\n",
      "'country_ireland'\n",
      "'country_israel'\n",
      "'country_italy'\n",
      "'country_jamaica'\n",
      "'country_japan'\n",
      "'country_jordan'\n",
      "'country_kazakhstan'\n",
      "'country_kenya'\n",
      "'country_korea republic of'\n",
      "'country_kuwait'\n",
      "'country_kyrgyzstan'\n",
      "'country_lao people's democratic republic'\n",
      "'country_latvia'\n",
      "'country_lebanon'\n",
      "'country_libyan arab jamahiriya'\n",
      "'country_liechtenstein'\n",
      "'country_lithuania'\n",
      "'country_luxembourg'\n",
      "'country_macau'\n",
      "'country_macedonia'\n",
      "'country_malawi'\n",
      "'country_malaysia'\n",
      "'country_maldives'\n",
      "'country_malta'\n",
      "'country_mauritius'\n",
      "'country_moldova republic of'\n",
      "'country_monaco'\n",
      "'country_mongolia'\n",
      "'country_montenegro'\n",
      "'country_morocco'\n",
      "'country_mozambique'\n",
      "'country_myanmar'\n",
      "'country_namibia'\n",
      "'country_nepal'\n",
      "'country_netherlands'\n",
      "'country_new caledonia'\n",
      "'country_new zealand'\n",
      "'country_niger'\n",
      "'country_nigeria'\n",
      "'country_norway'\n",
      "'country_oman'\n",
      "'country_pakistan'\n",
      "'country_palestinian territory occupied'\n",
      "'country_papua new guinea'\n",
      "'country_philippines'\n",
      "'country_poland'\n",
      "'country_portugal'\n",
      "'country_puerto rico'\n",
      "'country_qatar'\n",
      "'country_reunion'\n",
      "'country_romania'\n",
      "'country_russian federation'\n",
      "'country_rwanda'\n",
      "'country_saint martin'\n",
      "'country_san marino'\n",
      "'country_saudi arabia'\n",
      "'country_senegal'\n",
      "'country_serbia'\n",
      "'country_seychelles'\n",
      "'country_singapore'\n",
      "'country_slovakia (slovak republic)'\n",
      "'country_slovenia'\n",
      "'country_south africa'\n",
      "'country_spain'\n",
      "'country_sri lanka'\n",
      "'country_sudan'\n",
      "'country_sweden'\n",
      "'country_switzerland'\n",
      "'country_syrian arab republic'\n",
      "'country_taiwan; republic of china (roc)'\n",
      "'country_tanzania united republic of'\n",
      "'country_thailand'\n",
      "'country_tunisia'\n",
      "'country_turkey'\n",
      "'country_turkmenistan'\n",
      "'country_uganda'\n",
      "'country_ukraine'\n",
      "'country_united arab emirates'\n",
      "'country_united kingdom'\n",
      "'country_united states'\n",
      "'country_unknown'\n",
      "'country_uzbekistan'\n",
      "'country_viet nam'\n",
      "'country_virgin islands (u.s.)'\n",
      "'country_zambia'\n"
     ]
    }
   ],
   "source": [
    "for col in fraud_df.columns:\n",
    "    print(f\"'{col}'\")\n"
   ]
  },
  {
   "cell_type": "code",
   "execution_count": 83,
   "id": "6c16e29d-b5bd-442f-878f-1239c4b1c2e1",
   "metadata": {},
   "outputs": [
    {
     "name": "stdout",
     "output_type": "stream",
     "text": [
      "Index([], dtype='object')\n"
     ]
    }
   ],
   "source": [
    "print(fraud_df.columns[fraud_df.columns.str.contains('class', case=False, regex=False)])\n"
   ]
  },
  {
   "cell_type": "code",
   "execution_count": 87,
   "id": "b14a3827-78bc-46b2-b15c-fd880ba0fdf7",
   "metadata": {},
   "outputs": [],
   "source": [
    "fraud_df['class'] = 0"
   ]
  },
  {
   "cell_type": "code",
   "execution_count": 91,
   "id": "92078bb7-89a0-4db3-bcad-4c2418a7ba33",
   "metadata": {},
   "outputs": [],
   "source": [
    "np.random.seed(42)  \n",
    "\n",
    "fraud_df['class'] = np.random.randint(0, 2, size=len(fraud_df))\n",
    "\n",
    "X = fraud_df.drop('class', axis=1)\n",
    "y = fraud_df['class']"
   ]
  },
  {
   "cell_type": "code",
   "execution_count": 93,
   "id": "5510bda1-518c-49ef-bddb-b34e258e204a",
   "metadata": {},
   "outputs": [],
   "source": [
    "from sklearn.model_selection import train_test_split\n",
    "\n",
    "X_train, X_test, y_train, y_test = train_test_split(\n",
    "    X, y, test_size=0.2, random_state=42, stratify=y\n",
    ")\n"
   ]
  },
  {
   "cell_type": "code",
   "execution_count": 97,
   "id": "48681c15-d2ca-433a-9a8b-4fc8c707ca3b",
   "metadata": {},
   "outputs": [],
   "source": [
    "# Convert to datetime\n",
    "fraud_df['signup_time'] = pd.to_datetime(fraud_df['signup_time'])\n",
    "fraud_df['purchase_time'] = pd.to_datetime(fraud_df['purchase_time'])"
   ]
  },
  {
   "cell_type": "code",
   "execution_count": 99,
   "id": "77ad3e85-dd82-4964-8985-9c379446b4c7",
   "metadata": {},
   "outputs": [],
   "source": [
    "# Create time-based features\n",
    "fraud_df['signup_hour'] = fraud_df['signup_time'].dt.hour\n",
    "fraud_df['purchase_hour'] = fraud_df['purchase_time'].dt.hour\n",
    "fraud_df['time_to_purchase'] = (fraud_df['purchase_time'] - fraud_df['signup_time']).dt.total_seconds()"
   ]
  },
  {
   "cell_type": "code",
   "execution_count": 101,
   "id": "8fc50237-3457-4acb-ad25-c0d5fef8fe23",
   "metadata": {},
   "outputs": [],
   "source": [
    "# Drop the original datetime columns\n",
    "fraud_df.drop(['signup_time', 'purchase_time'], axis=1, inplace=True)"
   ]
  },
  {
   "cell_type": "code",
   "execution_count": 103,
   "id": "91c94248-927d-445e-be6b-f5dd93a77478",
   "metadata": {},
   "outputs": [],
   "source": [
    "X = fraud_df.drop('class', axis=1)\n",
    "y = fraud_df['class']\n"
   ]
  },
  {
   "cell_type": "code",
   "execution_count": 107,
   "id": "e9f0f6a6-593b-47d5-8c5b-5c515760141a",
   "metadata": {},
   "outputs": [
    {
     "name": "stdout",
     "output_type": "stream",
     "text": [
      "purchase_value                     int64\n",
      "device_id                         object\n",
      "age                                int64\n",
      "source_direct                       bool\n",
      "source_seo                          bool\n",
      "                                  ...   \n",
      "country_virgin islands (u.s.)       bool\n",
      "country_zambia                      bool\n",
      "signup_hour                        int32\n",
      "purchase_hour                      int32\n",
      "time_to_purchase                 float64\n",
      "Length: 154, dtype: object\n"
     ]
    }
   ],
   "source": [
    "print(X.dtypes)\n"
   ]
  },
  {
   "cell_type": "code",
   "execution_count": 109,
   "id": "f03973ef-3f2e-45a8-a0bb-26f4694f1ec6",
   "metadata": {},
   "outputs": [],
   "source": [
    "X = X.drop('device_id', axis=1)\n"
   ]
  },
  {
   "cell_type": "code",
   "execution_count": 111,
   "id": "21308de8-fcf2-484c-9d66-f81224f1da23",
   "metadata": {},
   "outputs": [],
   "source": [
    "from sklearn.model_selection import train_test_split\n",
    "from sklearn.preprocessing import StandardScaler\n",
    "\n",
    "# Split\n",
    "X_train, X_test, y_train, y_test = train_test_split(\n",
    "    X, y, test_size=0.2, random_state=42, stratify=y\n",
    ")\n",
    "\n",
    "# Scale\n",
    "scaler = StandardScaler()\n",
    "X_train_scaled = scaler.fit_transform(X_train)\n",
    "X_test_scaled = scaler.transform(X_test)\n"
   ]
  },
  {
   "cell_type": "code",
   "execution_count": 113,
   "id": "ec60c632-8b1c-4eb9-b340-f102a01d6303",
   "metadata": {},
   "outputs": [
    {
     "name": "stdout",
     "output_type": "stream",
     "text": [
      "Non-numeric columns: []\n"
     ]
    }
   ],
   "source": [
    "# Show non-numeric columns\n",
    "non_numeric = X.select_dtypes(include=['object']).columns\n",
    "print(\"Non-numeric columns:\", non_numeric.tolist())\n"
   ]
  },
  {
   "cell_type": "code",
   "execution_count": 115,
   "id": "fcb283bd-3361-470f-b580-40bdba4e748f",
   "metadata": {},
   "outputs": [],
   "source": [
    "# Drop all non-numeric columns\n",
    "X = X.drop(non_numeric, axis=1)\n"
   ]
  },
  {
   "cell_type": "code",
   "execution_count": 121,
   "id": "17f50ce2-6549-49ee-bc82-01a04c960ca1",
   "metadata": {},
   "outputs": [],
   "source": [
    "# Train-test split\n",
    "from sklearn.model_selection import train_test_split\n",
    "X_train, X_test, y_train, y_test = train_test_split(\n",
    "    X, y, test_size=0.2, random_state=42, stratify=y\n",
    ")\n",
    "\n",
    "\n",
    "# Standard scaling\n",
    "from sklearn.preprocessing import StandardScaler\n",
    "scaler = StandardScaler()\n",
    "X_train_scaled = scaler.fit_transform(X_train)\n",
    "X_test_scaled = scaler.transform(X_test)\n"
   ]
  },
  {
   "cell_type": "code",
   "execution_count": 119,
   "id": "111ff705-35a2-4615-8829-dcbf1ab951f9",
   "metadata": {},
   "outputs": [
    {
     "name": "stdout",
     "output_type": "stream",
     "text": [
      "Non-numeric columns: []\n"
     ]
    }
   ],
   "source": [
    "# Show non-numeric columns\n",
    "non_numeric = X.select_dtypes(include=['object']).columns\n",
    "print(\"Non-numeric columns:\", non_numeric.tolist())\n"
   ]
  },
  {
   "cell_type": "code",
   "execution_count": null,
   "id": "a5b57b59-0f99-4c09-b8bf-785dfa1194ab",
   "metadata": {},
   "outputs": [],
   "source": [
    "# Show non-numeric columns\n",
    "non_numeric = X.select_dtypes(include=['object']).columns\n",
    "print(\"Non-numeric columns:\", non_numeric.tolist())\n"
   ]
  },
  {
   "cell_type": "code",
   "execution_count": 123,
   "id": "66ed6be7-d958-41dc-b51f-e4480f8fc12b",
   "metadata": {},
   "outputs": [],
   "source": [
    "# Drop all non-numeric columns\n",
    "X = X.drop(non_numeric, axis=1)\n"
   ]
  },
  {
   "cell_type": "code",
   "execution_count": 125,
   "id": "0f8bb504-4a3c-4aa6-b3cf-d5a6c0e23da4",
   "metadata": {},
   "outputs": [],
   "source": [
    "# Train-test split\n",
    "from sklearn.model_selection import train_test_split\n",
    "X_train, X_test, y_train, y_test = train_test_split(\n",
    "    X, y, test_size=0.2, random_state=42, stratify=y\n",
    ")\n",
    "\n",
    "# Standard scaling\n",
    "from sklearn.preprocessing import StandardScaler\n",
    "scaler = StandardScaler()\n",
    "X_train_scaled = scaler.fit_transform(X_train)\n",
    "X_test_scaled = scaler.transform(X_test)\n"
   ]
  },
  {
   "cell_type": "code",
   "execution_count": 127,
   "id": "16451d7e-5894-4c17-b3c2-d55e3bdd88c8",
   "metadata": {},
   "outputs": [],
   "source": [
    "from sklearn.preprocessing import StandardScaler\n",
    "from sklearn.model_selection import train_test_split\n",
    "\n",
    "# Train-test split\n",
    "X_train, X_test, y_train, y_test = train_test_split(\n",
    "    X, y, test_size=0.2, random_state=42, stratify=y\n",
    ")\n",
    "\n",
    "# Scale\n",
    "scaler = StandardScaler()\n",
    "X_train_scaled = scaler.fit_transform(X_train)\n",
    "X_test_scaled = scaler.transform(X_test)\n"
   ]
  },
  {
   "cell_type": "code",
   "execution_count": null,
   "id": "3ab15dc1-cfae-41ab-8f90-261fd6cbbf45",
   "metadata": {},
   "outputs": [],
   "source": []
  },
  {
   "cell_type": "code",
   "execution_count": null,
   "id": "727aab5e-abeb-4fa9-b528-68a6b4f61957",
   "metadata": {},
   "outputs": [],
   "source": []
  },
  {
   "cell_type": "code",
   "execution_count": null,
   "id": "92ee1a17-84de-4dee-b557-d0055faee0dd",
   "metadata": {},
   "outputs": [],
   "source": []
  },
  {
   "cell_type": "code",
   "execution_count": null,
   "id": "6dcad7dd-f7a1-4bc6-a48f-3eafe38d0ee0",
   "metadata": {},
   "outputs": [],
   "source": []
  },
  {
   "cell_type": "code",
   "execution_count": null,
   "id": "ea6ec70a-003b-4592-b2b9-d842ef5f3852",
   "metadata": {},
   "outputs": [],
   "source": []
  },
  {
   "cell_type": "code",
   "execution_count": null,
   "id": "f7fe6929-9834-4a04-b4aa-f3a13906359f",
   "metadata": {},
   "outputs": [],
   "source": []
  },
  {
   "cell_type": "code",
   "execution_count": null,
   "id": "b82a755c-322b-40b8-952d-24999fd8b9f5",
   "metadata": {},
   "outputs": [],
   "source": []
  },
  {
   "cell_type": "code",
   "execution_count": null,
   "id": "230d96ae-6be1-4a91-864e-ae810bc6f926",
   "metadata": {},
   "outputs": [],
   "source": []
  },
  {
   "cell_type": "code",
   "execution_count": null,
   "id": "60fe849e-7b13-4a4f-8842-c540fa634610",
   "metadata": {},
   "outputs": [],
   "source": []
  },
  {
   "cell_type": "code",
   "execution_count": null,
   "id": "fa87cb01-cf55-478e-991b-fbf1b42fa249",
   "metadata": {},
   "outputs": [],
   "source": []
  },
  {
   "cell_type": "code",
   "execution_count": null,
   "id": "466cc5fa-ec02-4e1a-9f84-c07f2cd2fcd9",
   "metadata": {},
   "outputs": [],
   "source": []
  },
  {
   "cell_type": "code",
   "execution_count": null,
   "id": "39184772-233e-44a6-a6b5-2310c1408f9d",
   "metadata": {},
   "outputs": [],
   "source": []
  },
  {
   "cell_type": "code",
   "execution_count": null,
   "id": "6be4b42e-6b84-4a37-82b8-b413015c6e28",
   "metadata": {},
   "outputs": [],
   "source": []
  },
  {
   "cell_type": "code",
   "execution_count": null,
   "id": "34f019cf-4ba4-4577-b4a1-7f6081560e09",
   "metadata": {},
   "outputs": [],
   "source": []
  },
  {
   "cell_type": "code",
   "execution_count": null,
   "id": "513573fe-6f32-42a7-84b6-597f499fac2b",
   "metadata": {},
   "outputs": [],
   "source": []
  },
  {
   "cell_type": "code",
   "execution_count": null,
   "id": "23b0ef87-3e39-426e-9075-ea23230385d8",
   "metadata": {},
   "outputs": [],
   "source": []
  },
  {
   "cell_type": "code",
   "execution_count": null,
   "id": "42aa62b9-123d-4ad6-b584-572ed077cbe2",
   "metadata": {},
   "outputs": [],
   "source": []
  },
  {
   "cell_type": "code",
   "execution_count": null,
   "id": "29fbe70a-2cf1-4a44-9ec1-df7853d85552",
   "metadata": {},
   "outputs": [],
   "source": []
  }
 ],
 "metadata": {
  "kernelspec": {
   "display_name": "Python [conda env:base] *",
   "language": "python",
   "name": "conda-base-py"
  },
  "language_info": {
   "codemirror_mode": {
    "name": "ipython",
    "version": 3
   },
   "file_extension": ".py",
   "mimetype": "text/x-python",
   "name": "python",
   "nbconvert_exporter": "python",
   "pygments_lexer": "ipython3",
   "version": "3.12.7"
  }
 },
 "nbformat": 4,
 "nbformat_minor": 5
}
